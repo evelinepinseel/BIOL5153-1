{
 "cells": [
  {
   "cell_type": "code",
   "execution_count": 1,
   "metadata": {},
   "outputs": [],
   "source": [
    "import re"
   ]
  },
  {
   "cell_type": "markdown",
   "metadata": {},
   "source": [
    "## This example also shows how to use a character class and how to capture a match\n",
    "1. the entire match is captured in group 0\n",
    "2. you capture part of a match by putting it in parentheses\n",
    "3. you can capture multiple parts of the match\n",
    "    - captures are numbered by the nesting of the parentheses (1 - n)\n",
    "    - innermost is 1, outermost is n"
   ]
  },
  {
   "cell_type": "code",
   "execution_count": 3,
   "metadata": {},
   "outputs": [
    {
     "name": "stdout",
     "output_type": "stream",
     "text": [
      "Full match: Alicia K\n",
      "Captured: K\n"
     ]
    }
   ],
   "source": [
    "crush = 'Alicia Keys'\n",
    "match = re.search(\"Alicia ([a-zA-Z])\", crush)\n",
    "if match:\n",
    "    print(\"Full match:\", match.group(0))\n",
    "    print(\"Captured:\", match.group(1))\n",
    "else:\n",
    "    print(\"No match\")"
   ]
  },
  {
   "cell_type": "markdown",
   "metadata": {},
   "source": [
    "## This example shows how to capture multiple matches\n",
    "    - captures are numbered by the nesting of the parentheses (1 - n)\n",
    "    - innermost is 1, outermost is n"
   ]
  },
  {
   "cell_type": "code",
   "execution_count": 8,
   "metadata": {},
   "outputs": [
    {
     "name": "stdout",
     "output_type": "stream",
     "text": [
      "capture 0: yonce\n",
      "capture 1: None\n",
      "capture 2: yonce\n",
      "capture 3: on\n"
     ]
    }
   ],
   "source": [
    "crush = 'yonce'\n",
    "match = re.search(\"(Be*)*(y(on)ce)\", crush)\n",
    "if match:\n",
    "    print(\"capture 0:\", match.group(0))\n",
    "    print(\"capture 1:\", match.group(1))\n",
    "    print(\"capture 2:\", match.group(2))\n",
    "    print(\"capture 3:\", match.group(3))\n",
    "else:\n",
    "    print(\"No match\")"
   ]
  },
  {
   "cell_type": "markdown",
   "metadata": {},
   "source": [
    "## This example shows how to use the \"any old junk\" construct\n",
    "- the `.` matches any character except a newline\n",
    "- the `*` means \"match the preceding character or character class 0 or more times\", i.e., it's optional"
   ]
  },
  {
   "cell_type": "code",
   "execution_count": 11,
   "metadata": {},
   "outputs": [
    {
     "name": "stdout",
     "output_type": "stream",
     "text": [
      "Full match: AliciaKeys\n",
      "Captured:[]\n"
     ]
    }
   ],
   "source": [
    "crush = 'AliciaKeys'\n",
    "match = re.search(\"Alicia(.*)Keys\", crush)\n",
    "if match:\n",
    "    print(\"Full match:\", match.group(0))\n",
    "    print(\"Captured:\" + \"[\" + match.group(1) + \"]\")\n",
    "else:\n",
    "    print(\"No match\")"
   ]
  },
  {
   "cell_type": "markdown",
   "metadata": {},
   "source": [
    "## A more narrowly defined quantifier: `+`\n",
    "- `+` means \"match the preceding character or character class one or more times\n",
    "- we can use standard functions to measure the match length"
   ]
  },
  {
   "cell_type": "code",
   "execution_count": 15,
   "metadata": {},
   "outputs": [
    {
     "name": "stdout",
     "output_type": "stream",
     "text": [
      "Full match: Allllllicia Keys\n",
      "There are 6 l's: llllll\n"
     ]
    }
   ],
   "source": [
    "crush = 'Allllllicia Keys'\n",
    "match = re.search(\"A(l+)icia Keys\", crush)\n",
    "if match:\n",
    "    print(\"Full match:\", match.group(0))\n",
    "    print(\"There are\", len(match.group(1)), \"l's:\", match.group(1))\n",
    "else:\n",
    "    print(\"No match\")"
   ]
  },
  {
   "cell_type": "markdown",
   "metadata": {},
   "source": [
    "## `*`, `+`, and `{}` are greedy, meaning that they match as much as they possibly can"
   ]
  },
  {
   "cell_type": "code",
   "execution_count": 16,
   "metadata": {},
   "outputs": [
    {
     "name": "stdout",
     "output_type": "stream",
     "text": [
      "Found a match:[Holy moly</BOLD>, it's <BOLD>Alicia Keys]\n"
     ]
    }
   ],
   "source": [
    "crush = \"<BOLD>Holy moly</BOLD>, it's <BOLD>Alicia Keys</BOLD>\"\n",
    "match = re.search(\"<BOLD>(.*)</BOLD>\", crush)\n",
    "if match:\n",
    "    print(\"Found a match:\" + \"[\" + match.group(1) + \"]\")\n",
    "else:\n",
    "    print(\"No match:\", match)"
   ]
  },
  {
   "cell_type": "markdown",
   "metadata": {},
   "source": [
    "## Making the `*`, `+`, and `{}` quantifiers non-greedy with `?`"
   ]
  },
  {
   "cell_type": "code",
   "execution_count": 17,
   "metadata": {},
   "outputs": [
    {
     "name": "stdout",
     "output_type": "stream",
     "text": [
      "Found a match:[Holy moly]\n"
     ]
    }
   ],
   "source": [
    "# add ? to make *, +, and {} NON-GREEDY\n",
    "crush = \"<BOLD>Holy moly</BOLD>, it's <BOLD>Alicia Keys</BOLD>\"\n",
    "match = re.search(\"<BOLD>(.*?)</BOLD>\", crush)\n",
    "if match:\n",
    "    print(\"Found a match:\" + \"[\" + match.group(1) + \"]\")\n",
    "else:\n",
    "    print(\"No match:\", match)"
   ]
  },
  {
   "cell_type": "markdown",
   "metadata": {},
   "source": [
    "## Use parentheses to make precise, multi-character matches and captures\n",
    "- surround the pattern you want to quantify in parentheses\n",
    "- the entire unit in parentheses is evaluated by the quantifier \n",
    "\n",
    "### In this example, we want to match and capture an entire word, or string, rather than a single character"
   ]
  },
  {
   "cell_type": "code",
   "execution_count": 20,
   "metadata": {},
   "outputs": [
    {
     "name": "stdout",
     "output_type": "stream",
     "text": [
      "Full match: AliciaAliciaAlicia\n",
      "Captured: Alicia\n"
     ]
    }
   ],
   "source": [
    "crush = 'AliciaAliciaAlicia Keys'\n",
    "match = re.search(\"(Alicia)+\", crush)\n",
    "if match:\n",
    "    print(\"Full match:\", match.group(0))\n",
    "    print(\"Captured:\", match.group(1))\n",
    "else:\n",
    "    print(\"No match\")"
   ]
  },
  {
   "cell_type": "markdown",
   "metadata": {},
   "source": [
    "## Beware the behavior of `*`\n",
    "\n",
    "### Why does this match?"
   ]
  },
  {
   "cell_type": "code",
   "execution_count": 23,
   "metadata": {},
   "outputs": [
    {
     "name": "stdout",
     "output_type": "stream",
     "text": [
      "Full match: \n",
      "Captured: None\n"
     ]
    }
   ],
   "source": [
    "crush = 'Beyonce'\n",
    "match = re.search(\"(Alicia Keys)*\", crush)\n",
    "if match:\n",
    "    print(\"Full match:\", match.group(0))\n",
    "    print(\"Captured:\", match.group(1))\n",
    "else:\n",
    "    print(\"No match\")"
   ]
  },
  {
   "cell_type": "markdown",
   "metadata": {},
   "source": [
    "## Either/or matching if you're not picky"
   ]
  },
  {
   "cell_type": "code",
   "execution_count": 33,
   "metadata": {},
   "outputs": [
    {
     "name": "stdout",
     "output_type": "stream",
     "text": [
      "Found a diva: Alicia\n"
     ]
    }
   ],
   "source": [
    "# either, or\n",
    "crush = 'Alicia'\n",
    "diva = re.search(\"Alicia|Beyonce|Mariah\", crush)\n",
    "if match:\n",
    "    print(\"Found a diva:\", diva.group(0))\n",
    "else:\n",
    "    print(\"No match:\", match)"
   ]
  },
  {
   "cell_type": "markdown",
   "metadata": {},
   "source": [
    "## A general, defined quantifier: `{}`"
   ]
  },
  {
   "cell_type": "code",
   "execution_count": 38,
   "metadata": {},
   "outputs": [
    {
     "name": "stdout",
     "output_type": "stream",
     "text": [
      "Full match: AliciaAliciaAliciaAliciaAlicia\n",
      "Captured: Alicia\n"
     ]
    }
   ],
   "source": [
    "crush = 'AliciaAliciaAliciaAliciaAliciaAlicia Keys'\n",
    "match = re.search(\"(Alicia){3,5}\", crush)\n",
    "if match:\n",
    "    print(\"Full match:\", match.group(0))\n",
    "    print(\"Captured:\", match.group(1))\n",
    "else:\n",
    "    print(\"No match:\", match)"
   ]
  },
  {
   "cell_type": "markdown",
   "metadata": {},
   "source": [
    "## More match capturing"
   ]
  },
  {
   "cell_type": "code",
   "execution_count": 39,
   "metadata": {},
   "outputs": [
    {
     "name": "stdout",
     "output_type": "stream",
     "text": [
      "crush: AliciaAliciaAlicia\t\t\tKeys\n",
      "the third capture: [\t\t\t]\n",
      "length of the third capture is 3\n"
     ]
    }
   ],
   "source": [
    "crush = 'AliciaAliciaAlicia\\t\\t\\tKeys'\n",
    "print('crush:', crush)\n",
    "match = re.search(\"((Alicia){2,})(\\s+)Keys\", crush)\n",
    "if match:\n",
    "    print(\"the third capture:\" , \"[\" + match.group(3) + \"]\")\n",
    "    print(\"length of the third capture is\", len(match.group(3)))\n",
    "else:\n",
    "    print(\"No match:\", match)"
   ]
  },
  {
   "cell_type": "markdown",
   "metadata": {},
   "source": [
    "## There are lots of modifiers that can be added to your regular expressions\n",
    "- `re.I` allows for case-insensitive matching"
   ]
  },
  {
   "cell_type": "code",
   "execution_count": 40,
   "metadata": {},
   "outputs": [
    {
     "name": "stdout",
     "output_type": "stream",
     "text": [
      "Found a match: Alicia\n"
     ]
    }
   ],
   "source": [
    "crush = 'Alicia Keys'\n",
    "match = re.search(\"alicia\", crush, re.I)\n",
    "if match:\n",
    "    print(\"Found a match:\", match.group())\n",
    "else:\n",
    "    print(\"No match:\", match)"
   ]
  },
  {
   "cell_type": "markdown",
   "metadata": {},
   "source": [
    "## Using variables inside regular expressions"
   ]
  },
  {
   "cell_type": "code",
   "execution_count": 50,
   "metadata": {},
   "outputs": [
    {
     "name": "stdout",
     "output_type": "stream",
     "text": [
      "We love Peaches\n",
      "Peaches\n"
     ]
    }
   ],
   "source": [
    "cat1 = 'Peaches'\n",
    "fact = 'We love ' + cat1\n",
    "print(fact)\n",
    "\n",
    "pat = re.compile(cat1)\n",
    "match = pat.search(fact, re.I)\n",
    "if match:\n",
    "    print(match.group(0))"
   ]
  },
  {
   "cell_type": "markdown",
   "metadata": {},
   "source": [
    "## \"escape\" special characters with a `\\` to match them as literals\n",
    "\n",
    "## a preceding `r` tells Python to match *raw strings*, i.e., not to interpolate special metacharacters"
   ]
  },
  {
   "cell_type": "code",
   "execution_count": 76,
   "metadata": {},
   "outputs": [
    {
     "name": "stdout",
     "output_type": "stream",
     "text": [
      "No match\n",
      "1\n",
      "Found another match:[\t]\n"
     ]
    }
   ],
   "source": [
    "crush  = 'Alicia\\tKeys'\n",
    "\n",
    "match = re.search(\"t\", crush)\n",
    "\n",
    "if match:\n",
    "    print(\"Found a match:\", match.group(0))\n",
    "else:\n",
    "    print(\"No match\")\n",
    "\n",
    "match = re.search(r\"\\t\", crush)\n",
    "if match:\n",
    "    print(\"Found another match:\" + \"[\" + match.group(0) + \"]\")\n",
    "else:\n",
    "    print(\"No match\")"
   ]
  },
  {
   "cell_type": "markdown",
   "metadata": {},
   "source": [
    "# THE END"
   ]
  },
  {
   "cell_type": "code",
   "execution_count": null,
   "metadata": {},
   "outputs": [],
   "source": []
  }
 ],
 "metadata": {
  "anaconda-cloud": {},
  "kernelspec": {
   "display_name": "Python 3",
   "language": "python",
   "name": "python3"
  },
  "language_info": {
   "codemirror_mode": {
    "name": "ipython",
    "version": 3
   },
   "file_extension": ".py",
   "mimetype": "text/x-python",
   "name": "python",
   "nbconvert_exporter": "python",
   "pygments_lexer": "ipython3",
   "version": "3.7.3"
  }
 },
 "nbformat": 4,
 "nbformat_minor": 1
}
